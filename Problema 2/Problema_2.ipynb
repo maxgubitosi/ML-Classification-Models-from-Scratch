{
 "cells": [
  {
   "cell_type": "code",
   "execution_count": 6,
   "metadata": {},
   "outputs": [
    {
     "name": "stdout",
     "output_type": "stream",
     "text": [
      "The autoreload extension is already loaded. To reload it, use:\n",
      "  %reload_ext autoreload\n"
     ]
    }
   ],
   "source": [
    "%load_ext autoreload\n",
    "%autoreload 2\n",
    "\n",
    "import numpy as np\n",
    "import matplotlib.pyplot as plt\n",
    "import pandas as pd\n",
    "from funciones_2 import *"
   ]
  },
  {
   "cell_type": "markdown",
   "metadata": {},
   "source": [
    "# Detección de Fraude en Transacciones de Tarjetas de Crédito\n",
    "El conjunto de datos de este problema comprende transacciones realizadas mediante tarjetas de crédito en un lapso de dos días, contabilizando 492 casos de fraude entre un total de 284,807 transacciones. Este dataset presenta un desequilibrio considerable, ya que la clase positiva (fraude) representa solo el 0.17 % del total de transacciones. Para una descripción más detallada del dataset, consulte el archivo credit card description.md.\n",
    "En este problema, nuestro objetivo es desarrollar varios modelos para clasificar una transacción como fraudulenta o no, y luego evaluar la eficacia de cada uno. Para esto, el conjunto de datos se dividió previamente en uno de entrenamiento (credit card train.csv ), uno de validaci ́on (credit card valid.csv) y uno de testeo (credit card test.csv). Estos conjuntos permanecerán fijos durante el desarrollo de los modelos (es decir, en este problema tampoco aplicaremos validación cruzada). En caso de que sea necesario ajustar un hiperparámetro, esto se hará evaluando la métrica de performance sobre el conjunto de validación."
   ]
  },
  {
   "cell_type": "code",
   "execution_count": 7,
   "metadata": {},
   "outputs": [
    {
     "name": "stdout",
     "output_type": "stream",
     "text": [
      "train shape:  (182276, 31)\n",
      "X_train shape:  (182276, 30)\n",
      "y_train shape:  (182276,)\n",
      "\n",
      "test shape:  (56962, 31)\n",
      "X_test shape:  (56962, 30)\n",
      "y_test shape:  (56962,)\n",
      "\n",
      "validation shape:  (45569, 31)\n",
      "X_validation shape:  (45569, 30)\n",
      "y_validation shape:  (45569,)\n"
     ]
    },
    {
     "data": {
      "text/html": [
       "<div>\n",
       "<style scoped>\n",
       "    .dataframe tbody tr th:only-of-type {\n",
       "        vertical-align: middle;\n",
       "    }\n",
       "\n",
       "    .dataframe tbody tr th {\n",
       "        vertical-align: top;\n",
       "    }\n",
       "\n",
       "    .dataframe thead th {\n",
       "        text-align: right;\n",
       "    }\n",
       "</style>\n",
       "<table border=\"1\" class=\"dataframe\">\n",
       "  <thead>\n",
       "    <tr style=\"text-align: right;\">\n",
       "      <th></th>\n",
       "      <th>Unnamed: 0</th>\n",
       "      <th>V1</th>\n",
       "      <th>V2</th>\n",
       "      <th>V3</th>\n",
       "      <th>V4</th>\n",
       "      <th>V5</th>\n",
       "      <th>V6</th>\n",
       "      <th>V7</th>\n",
       "      <th>V8</th>\n",
       "      <th>V9</th>\n",
       "      <th>V10</th>\n",
       "      <th>V11</th>\n",
       "      <th>V12</th>\n",
       "      <th>V13</th>\n",
       "      <th>V14</th>\n",
       "      <th>V15</th>\n",
       "      <th>V16</th>\n",
       "      <th>V17</th>\n",
       "      <th>V18</th>\n",
       "      <th>V19</th>\n",
       "      <th>V20</th>\n",
       "      <th>V21</th>\n",
       "      <th>V22</th>\n",
       "      <th>V23</th>\n",
       "      <th>V24</th>\n",
       "      <th>V25</th>\n",
       "      <th>V26</th>\n",
       "      <th>V27</th>\n",
       "      <th>V28</th>\n",
       "      <th>Class</th>\n",
       "      <th>Log Amount</th>\n",
       "    </tr>\n",
       "  </thead>\n",
       "  <tbody>\n",
       "    <tr>\n",
       "      <th>0</th>\n",
       "      <td>35473</td>\n",
       "      <td>-0.837642</td>\n",
       "      <td>1.112979</td>\n",
       "      <td>2.028655</td>\n",
       "      <td>3.145547</td>\n",
       "      <td>-0.837502</td>\n",
       "      <td>0.627196</td>\n",
       "      <td>-0.414030</td>\n",
       "      <td>0.742542</td>\n",
       "      <td>-0.701972</td>\n",
       "      <td>0.405014</td>\n",
       "      <td>-0.879133</td>\n",
       "      <td>-0.682846</td>\n",
       "      <td>-1.343436</td>\n",
       "      <td>0.294331</td>\n",
       "      <td>0.621764</td>\n",
       "      <td>-0.500612</td>\n",
       "      <td>0.897365</td>\n",
       "      <td>-0.107476</td>\n",
       "      <td>0.453730</td>\n",
       "      <td>-0.166689</td>\n",
       "      <td>0.268309</td>\n",
       "      <td>0.821847</td>\n",
       "      <td>0.046542</td>\n",
       "      <td>0.397589</td>\n",
       "      <td>-0.479563</td>\n",
       "      <td>0.336809</td>\n",
       "      <td>-0.037172</td>\n",
       "      <td>0.075603</td>\n",
       "      <td>0</td>\n",
       "      <td>3.196671</td>\n",
       "    </tr>\n",
       "    <tr>\n",
       "      <th>1</th>\n",
       "      <td>95426</td>\n",
       "      <td>1.316548</td>\n",
       "      <td>0.414713</td>\n",
       "      <td>-0.018404</td>\n",
       "      <td>0.487436</td>\n",
       "      <td>0.132814</td>\n",
       "      <td>-0.574483</td>\n",
       "      <td>0.145913</td>\n",
       "      <td>-0.215796</td>\n",
       "      <td>-0.080218</td>\n",
       "      <td>-0.314228</td>\n",
       "      <td>-0.623766</td>\n",
       "      <td>0.557716</td>\n",
       "      <td>1.498034</td>\n",
       "      <td>-0.561625</td>\n",
       "      <td>1.030891</td>\n",
       "      <td>0.669708</td>\n",
       "      <td>-0.373979</td>\n",
       "      <td>-0.164469</td>\n",
       "      <td>0.109892</td>\n",
       "      <td>0.017367</td>\n",
       "      <td>-0.329864</td>\n",
       "      <td>-0.890929</td>\n",
       "      <td>0.011784</td>\n",
       "      <td>-0.477604</td>\n",
       "      <td>0.365847</td>\n",
       "      <td>0.143306</td>\n",
       "      <td>-0.016664</td>\n",
       "      <td>0.024555</td>\n",
       "      <td>0</td>\n",
       "      <td>0.399447</td>\n",
       "    </tr>\n",
       "    <tr>\n",
       "      <th>2</th>\n",
       "      <td>61436</td>\n",
       "      <td>-0.571404</td>\n",
       "      <td>0.258989</td>\n",
       "      <td>1.287805</td>\n",
       "      <td>-1.869622</td>\n",
       "      <td>-0.009301</td>\n",
       "      <td>-0.635431</td>\n",
       "      <td>0.685077</td>\n",
       "      <td>-0.022068</td>\n",
       "      <td>-2.008916</td>\n",
       "      <td>0.031738</td>\n",
       "      <td>1.695940</td>\n",
       "      <td>-0.012262</td>\n",
       "      <td>-0.189118</td>\n",
       "      <td>0.213160</td>\n",
       "      <td>-0.655677</td>\n",
       "      <td>0.850890</td>\n",
       "      <td>0.251749</td>\n",
       "      <td>-1.814555</td>\n",
       "      <td>0.106243</td>\n",
       "      <td>0.097562</td>\n",
       "      <td>0.053786</td>\n",
       "      <td>-0.121669</td>\n",
       "      <td>0.004595</td>\n",
       "      <td>0.188679</td>\n",
       "      <td>-0.022828</td>\n",
       "      <td>-0.603318</td>\n",
       "      <td>0.042462</td>\n",
       "      <td>0.085269</td>\n",
       "      <td>0</td>\n",
       "      <td>3.772324</td>\n",
       "    </tr>\n",
       "    <tr>\n",
       "      <th>3</th>\n",
       "      <td>62222</td>\n",
       "      <td>1.257227</td>\n",
       "      <td>0.354853</td>\n",
       "      <td>0.306366</td>\n",
       "      <td>0.693287</td>\n",
       "      <td>-0.372857</td>\n",
       "      <td>-1.073952</td>\n",
       "      <td>0.084993</td>\n",
       "      <td>-0.202787</td>\n",
       "      <td>0.035047</td>\n",
       "      <td>-0.281952</td>\n",
       "      <td>-0.068773</td>\n",
       "      <td>0.226212</td>\n",
       "      <td>0.209235</td>\n",
       "      <td>-0.284310</td>\n",
       "      <td>1.095689</td>\n",
       "      <td>0.479185</td>\n",
       "      <td>-0.004271</td>\n",
       "      <td>-0.297321</td>\n",
       "      <td>-0.198207</td>\n",
       "      <td>-0.082833</td>\n",
       "      <td>-0.288084</td>\n",
       "      <td>-0.830980</td>\n",
       "      <td>0.130011</td>\n",
       "      <td>0.344891</td>\n",
       "      <td>0.215693</td>\n",
       "      <td>0.094511</td>\n",
       "      <td>-0.023087</td>\n",
       "      <td>0.030703</td>\n",
       "      <td>0</td>\n",
       "      <td>0.255417</td>\n",
       "    </tr>\n",
       "    <tr>\n",
       "      <th>4</th>\n",
       "      <td>156230</td>\n",
       "      <td>-0.105025</td>\n",
       "      <td>1.309503</td>\n",
       "      <td>-0.365174</td>\n",
       "      <td>-0.391590</td>\n",
       "      <td>1.033099</td>\n",
       "      <td>-0.811986</td>\n",
       "      <td>0.874705</td>\n",
       "      <td>-0.203432</td>\n",
       "      <td>1.362339</td>\n",
       "      <td>-0.905523</td>\n",
       "      <td>0.338341</td>\n",
       "      <td>-2.368896</td>\n",
       "      <td>2.124732</td>\n",
       "      <td>0.252604</td>\n",
       "      <td>-1.009552</td>\n",
       "      <td>0.265979</td>\n",
       "      <td>1.054074</td>\n",
       "      <td>-0.008186</td>\n",
       "      <td>-0.455076</td>\n",
       "      <td>0.139322</td>\n",
       "      <td>-0.517254</td>\n",
       "      <td>-1.010887</td>\n",
       "      <td>0.116913</td>\n",
       "      <td>0.507027</td>\n",
       "      <td>-0.370831</td>\n",
       "      <td>0.078228</td>\n",
       "      <td>0.300587</td>\n",
       "      <td>0.148577</td>\n",
       "      <td>0</td>\n",
       "      <td>0.989913</td>\n",
       "    </tr>\n",
       "  </tbody>\n",
       "</table>\n",
       "</div>"
      ],
      "text/plain": [
       "   Unnamed: 0        V1        V2        V3        V4        V5        V6  \\\n",
       "0       35473 -0.837642  1.112979  2.028655  3.145547 -0.837502  0.627196   \n",
       "1       95426  1.316548  0.414713 -0.018404  0.487436  0.132814 -0.574483   \n",
       "2       61436 -0.571404  0.258989  1.287805 -1.869622 -0.009301 -0.635431   \n",
       "3       62222  1.257227  0.354853  0.306366  0.693287 -0.372857 -1.073952   \n",
       "4      156230 -0.105025  1.309503 -0.365174 -0.391590  1.033099 -0.811986   \n",
       "\n",
       "         V7        V8        V9       V10       V11       V12       V13  \\\n",
       "0 -0.414030  0.742542 -0.701972  0.405014 -0.879133 -0.682846 -1.343436   \n",
       "1  0.145913 -0.215796 -0.080218 -0.314228 -0.623766  0.557716  1.498034   \n",
       "2  0.685077 -0.022068 -2.008916  0.031738  1.695940 -0.012262 -0.189118   \n",
       "3  0.084993 -0.202787  0.035047 -0.281952 -0.068773  0.226212  0.209235   \n",
       "4  0.874705 -0.203432  1.362339 -0.905523  0.338341 -2.368896  2.124732   \n",
       "\n",
       "        V14       V15       V16       V17       V18       V19       V20  \\\n",
       "0  0.294331  0.621764 -0.500612  0.897365 -0.107476  0.453730 -0.166689   \n",
       "1 -0.561625  1.030891  0.669708 -0.373979 -0.164469  0.109892  0.017367   \n",
       "2  0.213160 -0.655677  0.850890  0.251749 -1.814555  0.106243  0.097562   \n",
       "3 -0.284310  1.095689  0.479185 -0.004271 -0.297321 -0.198207 -0.082833   \n",
       "4  0.252604 -1.009552  0.265979  1.054074 -0.008186 -0.455076  0.139322   \n",
       "\n",
       "        V21       V22       V23       V24       V25       V26       V27  \\\n",
       "0  0.268309  0.821847  0.046542  0.397589 -0.479563  0.336809 -0.037172   \n",
       "1 -0.329864 -0.890929  0.011784 -0.477604  0.365847  0.143306 -0.016664   \n",
       "2  0.053786 -0.121669  0.004595  0.188679 -0.022828 -0.603318  0.042462   \n",
       "3 -0.288084 -0.830980  0.130011  0.344891  0.215693  0.094511 -0.023087   \n",
       "4 -0.517254 -1.010887  0.116913  0.507027 -0.370831  0.078228  0.300587   \n",
       "\n",
       "        V28  Class  Log Amount  \n",
       "0  0.075603      0    3.196671  \n",
       "1  0.024555      0    0.399447  \n",
       "2  0.085269      0    3.772324  \n",
       "3  0.030703      0    0.255417  \n",
       "4  0.148577      0    0.989913  "
      ]
     },
     "execution_count": 7,
     "metadata": {},
     "output_type": "execute_result"
    }
   ],
   "source": [
    "train = pd.read_csv('/Users/maxi/Downloads/Actuales/ML/ML-TP3/Data/2 - Detección de Fraude en Transacciones de Tarjetas de Crédito/credit_card_train.csv')\n",
    "test = pd.read_csv('/Users/maxi/Downloads/Actuales/ML/ML-TP3/Data/2 - Detección de Fraude en Transacciones de Tarjetas de Crédito/credit_card_test.csv')\n",
    "validation = pd.read_csv('/Users/maxi/Downloads/Actuales/ML/ML-TP3/Data/2 - Detección de Fraude en Transacciones de Tarjetas de Crédito/credit_card_valid.csv')\n",
    "\n",
    "# normalize all data\n",
    "# min_max = get_min_max(train)\n",
    "# train = min_max_normalize(train, min_max)\n",
    "# test = min_max_normalize(test, min_max)\n",
    "# validation = min_max_normalize(validation, min_max)\n",
    "\n",
    "# if any column has a missing value replace with cero\n",
    "# train = train.fillna(0)\n",
    "# test = test.fillna(0)\n",
    "# validation = validation.fillna(0)\n",
    "\n",
    "X_train = train.drop(columns=['Class'])\n",
    "y_train = train['Class'].values\n",
    "\n",
    "X_test = test.drop(columns=['Class'])\n",
    "y_test = test['Class'].values\n",
    "\n",
    "X_validation = validation.drop(columns=['Class'])\n",
    "y_validation = validation['Class'].values\n",
    "\n",
    "print(\"train shape: \", train.shape)\n",
    "print(\"X_train shape: \", X_train.shape)\n",
    "print(\"y_train shape: \", y_train.shape)\n",
    "\n",
    "print(\"\\ntest shape: \", test.shape)\n",
    "print(\"X_test shape: \", X_test.shape)\n",
    "print(\"y_test shape: \", y_test.shape)\n",
    "\n",
    "print(\"\\nvalidation shape: \", validation.shape)\n",
    "print(\"X_validation shape: \", X_validation.shape)\n",
    "print(\"y_validation shape: \", y_validation.shape)\n",
    "\n",
    "pd.set_option('display.max_columns', None)\n",
    "train.head()\n",
    "test.head()\n",
    "validation.head()\n",
    "# X_train.head()\n",
    "# y_train\n",
    "\n",
    "# # show all rows\n",
    "# pd.set_option('display.max_rows', None)\n",
    "# train"
   ]
  },
  {
   "cell_type": "markdown",
   "metadata": {},
   "source": [
    "## (a)\n",
    "Implementar los siguientes clasificadores sobre el conjunto de datos de entrenamiento sin aplicar ninguna técnica de re-balanceo, y para cada uno reportar la matriz de confusión, accuracy, precision, recall, curva ROC y área bajo la curva ROC (AUC-ROC), curva PRC (Precision-Recall Curve) y  ́area bajo la curva PRC (AU-PRC) sobre el conjunto de validación:\n",
    "\n",
    " - Red neuronal densamente conectada con una capa oculta de 16 nodos y función de activación sigmoide. Entrenar durante 150 epochs utilizando el optimizador ADAM con un learning rate de 0.001 y un batch size de 2048, y la entrop ́ıa cruzada binaria como función de costo. Si quiere explorar diferentes configuraciones, y quedarse con la mejor, lo puede hacer.\n",
    "Opcional: Implementar la técnica de “Early Stopping” monitoreando AU-PRC (área bajo la curva Precision-Recall) con una paciencia de 10 epochs.\n",
    "\n",
    " - Bosque aleatorio (Random Forest) con 20 árboles, utilizando la entropía como criterio de división, estableciendo una profundidad máxima de 10 para cada árbol. Si quiere explorar diferentes configuraciones, y quedarse con la mejor, lo puede hacer."
   ]
  },
  {
   "cell_type": "markdown",
   "metadata": {},
   "source": [
    "### Red Neuronal "
   ]
  },
  {
   "cell_type": "code",
   "execution_count": 8,
   "metadata": {},
   "outputs": [
    {
     "name": "stderr",
     "output_type": "stream",
     "text": [
      "  0%|          | 0/150 [00:00<?, ?it/s]/Users/maxi/Downloads/Actuales/ML/ML-TP3/Problema 2/funciones_2.py:147: RuntimeWarning: overflow encountered in exp\n",
      "  return lambda z : 1 / (1 + np.exp(-z))\n",
      "/Users/maxi/Downloads/Actuales/ML/ML-TP3/Problema 2/funciones_2.py:166: RuntimeWarning: overflow encountered in multiply\n",
      "  return lambda z : z * (1 - z)\n",
      "/Users/maxi/Downloads/Actuales/ML/ML-TP3/Problema 2/funciones_2.py:261: RuntimeWarning: invalid value encountered in add\n",
      "  nabla_w = [nw + dnw for nw, dnw in zip(nabla_w, d_nabla_w)]\n",
      "  0%|          | 0/150 [00:05<?, ?it/s]\n"
     ]
    },
    {
     "ename": "KeyboardInterrupt",
     "evalue": "",
     "output_type": "error",
     "traceback": [
      "\u001b[0;31m---------------------------------------------------------------------------\u001b[0m",
      "\u001b[0;31mKeyboardInterrupt\u001b[0m                         Traceback (most recent call last)",
      "Cell \u001b[0;32mIn[8], line 5\u001b[0m\n\u001b[1;32m      2\u001b[0m X_train\u001b[38;5;241m.\u001b[39mshape[\u001b[38;5;241m1\u001b[39m]\n\u001b[1;32m      3\u001b[0m mlp \u001b[38;5;241m=\u001b[39m MLP(X_train\u001b[38;5;241m.\u001b[39mshape[\u001b[38;5;241m1\u001b[39m], [\u001b[38;5;241m30\u001b[39m, \u001b[38;5;241m16\u001b[39m, \u001b[38;5;241m1\u001b[39m], [\u001b[38;5;124m'\u001b[39m\u001b[38;5;124msigmoid\u001b[39m\u001b[38;5;124m'\u001b[39m, \u001b[38;5;124m'\u001b[39m\u001b[38;5;124msigmoid\u001b[39m\u001b[38;5;124m'\u001b[39m, \u001b[38;5;124m'\u001b[39m\u001b[38;5;124msigmoid\u001b[39m\u001b[38;5;124m'\u001b[39m])\n\u001b[0;32m----> 5\u001b[0m train_losses_1, test_losses_1 \u001b[38;5;241m=\u001b[39m \u001b[43mmlp\u001b[49m\u001b[38;5;241;43m.\u001b[39;49m\u001b[43mfit\u001b[49m\u001b[43m(\u001b[49m\u001b[38;5;28;43mlist\u001b[39;49m\u001b[43m(\u001b[49m\u001b[38;5;28;43mzip\u001b[39;49m\u001b[43m(\u001b[49m\u001b[43mX_train\u001b[49m\u001b[38;5;241;43m.\u001b[39;49m\u001b[43mvalues\u001b[49m\u001b[43m,\u001b[49m\u001b[43m \u001b[49m\u001b[43my_train\u001b[49m\u001b[43m)\u001b[49m\u001b[43m)\u001b[49m\u001b[43m,\u001b[49m\u001b[43m \u001b[49m\n\u001b[1;32m      6\u001b[0m \u001b[43m                                        \u001b[49m\u001b[38;5;28;43mlist\u001b[39;49m\u001b[43m(\u001b[49m\u001b[38;5;28;43mzip\u001b[39;49m\u001b[43m(\u001b[49m\u001b[43mX_validation\u001b[49m\u001b[38;5;241;43m.\u001b[39;49m\u001b[43mvalues\u001b[49m\u001b[43m,\u001b[49m\u001b[43m \u001b[49m\u001b[43my_validation\u001b[49m\u001b[43m)\u001b[49m\u001b[43m)\u001b[49m\u001b[43m,\u001b[49m\u001b[43m \u001b[49m\n\u001b[1;32m      7\u001b[0m \u001b[43m                                        \u001b[49m\u001b[38;5;241;43m48\u001b[39;49m\u001b[43m,\u001b[49m\u001b[43m \u001b[49m\n\u001b[1;32m      8\u001b[0m \u001b[43m                                        \u001b[49m\u001b[43malpha\u001b[49m\u001b[38;5;241;43m=\u001b[39;49m\u001b[38;5;241;43m0.001\u001b[39;49m\u001b[43m,\u001b[49m\u001b[43m \u001b[49m\n\u001b[1;32m      9\u001b[0m \u001b[43m                                        \u001b[49m\u001b[43mmax_epochs\u001b[49m\u001b[38;5;241;43m=\u001b[39;49m\u001b[38;5;241;43m150\u001b[39;49m\u001b[43m)\u001b[49m\n",
      "File \u001b[0;32m~/Downloads/Actuales/ML/ML-TP3/Problema 2/funciones_2.py:327\u001b[0m, in \u001b[0;36mMLP.fit\u001b[0;34m(self, training_data, test_data, mini_batch_size, alpha, max_epochs, update_rule)\u001b[0m\n\u001b[1;32m    324\u001b[0m mini_batches \u001b[38;5;241m=\u001b[39m [training_data[k:k\u001b[38;5;241m+\u001b[39mmini_batch_size] \u001b[38;5;28;01mfor\u001b[39;00m k \u001b[38;5;129;01min\u001b[39;00m \u001b[38;5;28mrange\u001b[39m(\u001b[38;5;241m0\u001b[39m, n_train, mini_batch_size)]\n\u001b[1;32m    326\u001b[0m \u001b[38;5;28;01mfor\u001b[39;00m mini_batch \u001b[38;5;129;01min\u001b[39;00m mini_batches:\n\u001b[0;32m--> 327\u001b[0m     train_loss \u001b[38;5;241m=\u001b[39m \u001b[38;5;28;43mself\u001b[39;49m\u001b[38;5;241;43m.\u001b[39;49m\u001b[43mupdate_mini_batch\u001b[49m\u001b[43m(\u001b[49m\u001b[43mmini_batch\u001b[49m\u001b[43m,\u001b[49m\u001b[43m \u001b[49m\u001b[43malpha\u001b[49m\u001b[43m)\u001b[49m\n\u001b[1;32m    329\u001b[0m train_losses\u001b[38;5;241m.\u001b[39mappend(train_loss)\n\u001b[1;32m    331\u001b[0m test_loss \u001b[38;5;241m=\u001b[39m \u001b[38;5;28mself\u001b[39m\u001b[38;5;241m.\u001b[39mevaluate(test_data)\n",
      "File \u001b[0;32m~/Downloads/Actuales/ML/ML-TP3/Problema 2/funciones_2.py:261\u001b[0m, in \u001b[0;36mMLP.update_mini_batch\u001b[0;34m(self, mini_batch, alpha)\u001b[0m\n\u001b[1;32m    259\u001b[0m     loss, d_nabla_w, d_nabla_b \u001b[38;5;241m=\u001b[39m \u001b[38;5;28mself\u001b[39m\u001b[38;5;241m.\u001b[39mbackward_pass(a, z, y)\n\u001b[1;32m    260\u001b[0m     nabla_b \u001b[38;5;241m=\u001b[39m [nb \u001b[38;5;241m+\u001b[39m dnb \u001b[38;5;28;01mfor\u001b[39;00m nb, dnb \u001b[38;5;129;01min\u001b[39;00m \u001b[38;5;28mzip\u001b[39m(nabla_b, d_nabla_b)]\n\u001b[0;32m--> 261\u001b[0m     nabla_w \u001b[38;5;241m=\u001b[39m [nw \u001b[38;5;241m+\u001b[39m dnw \u001b[38;5;28;01mfor\u001b[39;00m nw, dnw \u001b[38;5;129;01min\u001b[39;00m \u001b[38;5;28mzip\u001b[39m(nabla_w, d_nabla_w)]\n\u001b[1;32m    262\u001b[0m     total_loss \u001b[38;5;241m+\u001b[39m\u001b[38;5;241m=\u001b[39m loss\n\u001b[1;32m    264\u001b[0m \u001b[38;5;28mself\u001b[39m\u001b[38;5;241m.\u001b[39mweights \u001b[38;5;241m=\u001b[39m [w \u001b[38;5;241m-\u001b[39m (alpha \u001b[38;5;241m/\u001b[39m \u001b[38;5;28mlen\u001b[39m(mini_batch)) \u001b[38;5;241m*\u001b[39m nw \u001b[38;5;28;01mfor\u001b[39;00m w, nw \u001b[38;5;129;01min\u001b[39;00m \u001b[38;5;28mzip\u001b[39m(\u001b[38;5;28mself\u001b[39m\u001b[38;5;241m.\u001b[39mweights, nabla_w)]\n",
      "File \u001b[0;32m~/Downloads/Actuales/ML/ML-TP3/Problema 2/funciones_2.py:261\u001b[0m, in \u001b[0;36m<listcomp>\u001b[0;34m(.0)\u001b[0m\n\u001b[1;32m    259\u001b[0m     loss, d_nabla_w, d_nabla_b \u001b[38;5;241m=\u001b[39m \u001b[38;5;28mself\u001b[39m\u001b[38;5;241m.\u001b[39mbackward_pass(a, z, y)\n\u001b[1;32m    260\u001b[0m     nabla_b \u001b[38;5;241m=\u001b[39m [nb \u001b[38;5;241m+\u001b[39m dnb \u001b[38;5;28;01mfor\u001b[39;00m nb, dnb \u001b[38;5;129;01min\u001b[39;00m \u001b[38;5;28mzip\u001b[39m(nabla_b, d_nabla_b)]\n\u001b[0;32m--> 261\u001b[0m     nabla_w \u001b[38;5;241m=\u001b[39m [\u001b[43mnw\u001b[49m\u001b[43m \u001b[49m\u001b[38;5;241;43m+\u001b[39;49m\u001b[43m \u001b[49m\u001b[43mdnw\u001b[49m \u001b[38;5;28;01mfor\u001b[39;00m nw, dnw \u001b[38;5;129;01min\u001b[39;00m \u001b[38;5;28mzip\u001b[39m(nabla_w, d_nabla_w)]\n\u001b[1;32m    262\u001b[0m     total_loss \u001b[38;5;241m+\u001b[39m\u001b[38;5;241m=\u001b[39m loss\n\u001b[1;32m    264\u001b[0m \u001b[38;5;28mself\u001b[39m\u001b[38;5;241m.\u001b[39mweights \u001b[38;5;241m=\u001b[39m [w \u001b[38;5;241m-\u001b[39m (alpha \u001b[38;5;241m/\u001b[39m \u001b[38;5;28mlen\u001b[39m(mini_batch)) \u001b[38;5;241m*\u001b[39m nw \u001b[38;5;28;01mfor\u001b[39;00m w, nw \u001b[38;5;129;01min\u001b[39;00m \u001b[38;5;28mzip\u001b[39m(\u001b[38;5;28mself\u001b[39m\u001b[38;5;241m.\u001b[39mweights, nabla_w)]\n",
      "\u001b[0;31mKeyboardInterrupt\u001b[0m: "
     ]
    }
   ],
   "source": [
    "# fit MLP model\n",
    "X_train.shape[1]\n",
    "mlp = MLP(X_train.shape[1], [30, 16, 1], ['sigmoid', 'sigmoid', 'sigmoid'])\n",
    "\n",
    "train_losses_1, test_losses_1 = mlp.fit(list(zip(X_train.values, y_train)), \n",
    "                                        list(zip(X_validation.values, y_validation)), \n",
    "                                        48, \n",
    "                                        alpha=0.001, \n",
    "                                        max_epochs=150)\n",
    "\n"
   ]
  },
  {
   "cell_type": "code",
   "execution_count": 13,
   "metadata": {},
   "outputs": [
    {
     "name": "stdout",
     "output_type": "stream",
     "text": [
      "num layers: 3\n",
      "layers: [30, 16, 1]\n",
      "activations: ['sigmoid', 'sigmoid', 'sigmoid']\n"
     ]
    }
   ],
   "source": [
    "print(f\"num layers: {mlp.num_layers}\")\n",
    "print(f\"layers: {mlp.layers}\")\n",
    "print(f\"activations: {mlp.activations}\")"
   ]
  },
  {
   "cell_type": "code",
   "execution_count": 5,
   "metadata": {},
   "outputs": [
    {
     "ename": "NameError",
     "evalue": "name 'mlp' is not defined",
     "output_type": "error",
     "traceback": [
      "\u001b[0;31m---------------------------------------------------------------------------\u001b[0m",
      "\u001b[0;31mNameError\u001b[0m                                 Traceback (most recent call last)",
      "Cell \u001b[0;32mIn[5], line 1\u001b[0m\n\u001b[0;32m----> 1\u001b[0m y_mlp_valid_pred \u001b[38;5;241m=\u001b[39m \u001b[43mmlp\u001b[49m\u001b[38;5;241m.\u001b[39mpredict(X_validation\u001b[38;5;241m.\u001b[39mvalues)\n",
      "\u001b[0;31mNameError\u001b[0m: name 'mlp' is not defined"
     ]
    }
   ],
   "source": [
    "y_mlp_valid_pred = mlp.predict(X_validation.values)"
   ]
  },
  {
   "cell_type": "code",
   "execution_count": 6,
   "metadata": {},
   "outputs": [],
   "source": [
    "TP, TN, FP, FN = confusion_matrix(y_validation, y_mlp_valid_pred)"
   ]
  },
  {
   "cell_type": "code",
   "execution_count": 7,
   "metadata": {},
   "outputs": [
    {
     "name": "stdout",
     "output_type": "stream",
     "text": [
      "Confusion Matrix: \n",
      "[[0 0]\n",
      " [0 0]]\n"
     ]
    }
   ],
   "source": [
    "print(f\"Confusion Matrix: \\n{np.array([[TN, FP], [FN, TP]])}\")"
   ]
  },
  {
   "cell_type": "markdown",
   "metadata": {},
   "source": [
    "### Random Forest"
   ]
  },
  {
   "cell_type": "code",
   "execution_count": 11,
   "metadata": {},
   "outputs": [
    {
     "name": "stderr",
     "output_type": "stream",
     "text": [
      "  0%|          | 0/30 [00:09<?, ?it/s]\n"
     ]
    },
    {
     "ename": "KeyboardInterrupt",
     "evalue": "",
     "output_type": "error",
     "traceback": [
      "\u001b[0;31m---------------------------------------------------------------------------\u001b[0m",
      "\u001b[0;31mKeyboardInterrupt\u001b[0m                         Traceback (most recent call last)",
      "Cell \u001b[0;32mIn[11], line 2\u001b[0m\n\u001b[1;32m      1\u001b[0m dec_tree \u001b[38;5;241m=\u001b[39m DecisionTree(max_depth\u001b[38;5;241m=\u001b[39m\u001b[38;5;241m3\u001b[39m)\n\u001b[0;32m----> 2\u001b[0m \u001b[43mdec_tree\u001b[49m\u001b[38;5;241;43m.\u001b[39;49m\u001b[43mfit\u001b[49m\u001b[43m(\u001b[49m\u001b[43mX_train\u001b[49m\u001b[38;5;241;43m.\u001b[39;49m\u001b[43mvalues\u001b[49m\u001b[43m,\u001b[49m\u001b[43m \u001b[49m\u001b[43my_train\u001b[49m\u001b[43m)\u001b[49m\n\u001b[1;32m      3\u001b[0m y_dec_tree_valid_pred \u001b[38;5;241m=\u001b[39m dec_tree\u001b[38;5;241m.\u001b[39mpredict(X_validation)\n",
      "File \u001b[0;32m~/Downloads/Actuales/ML/ML-TP3/Problema 2/funciones_2.py:380\u001b[0m, in \u001b[0;36mDecisionTree.fit\u001b[0;34m(self, X, y)\u001b[0m\n\u001b[1;32m    378\u001b[0m \u001b[38;5;28;01mdef\u001b[39;00m \u001b[38;5;21mfit\u001b[39m(\u001b[38;5;28mself\u001b[39m, X, y):\n\u001b[1;32m    379\u001b[0m     \u001b[38;5;28mself\u001b[39m\u001b[38;5;241m.\u001b[39mn_feats \u001b[38;5;241m=\u001b[39m X\u001b[38;5;241m.\u001b[39mshape[\u001b[38;5;241m1\u001b[39m] \u001b[38;5;28;01mif\u001b[39;00m \u001b[38;5;129;01mnot\u001b[39;00m \u001b[38;5;28mself\u001b[39m\u001b[38;5;241m.\u001b[39mn_feats \u001b[38;5;28;01melse\u001b[39;00m \u001b[38;5;28mmin\u001b[39m(\u001b[38;5;28mself\u001b[39m\u001b[38;5;241m.\u001b[39mn_feats, X\u001b[38;5;241m.\u001b[39mshape[\u001b[38;5;241m1\u001b[39m])\n\u001b[0;32m--> 380\u001b[0m     \u001b[38;5;28mself\u001b[39m\u001b[38;5;241m.\u001b[39mroot \u001b[38;5;241m=\u001b[39m \u001b[38;5;28;43mself\u001b[39;49m\u001b[38;5;241;43m.\u001b[39;49m\u001b[43m_grow_tree\u001b[49m\u001b[43m(\u001b[49m\u001b[43mX\u001b[49m\u001b[43m,\u001b[49m\u001b[43m \u001b[49m\u001b[43my\u001b[49m\u001b[43m)\u001b[49m\n",
      "File \u001b[0;32m~/Downloads/Actuales/ML/ML-TP3/Problema 2/funciones_2.py:401\u001b[0m, in \u001b[0;36mDecisionTree._grow_tree\u001b[0;34m(self, X, y, depth)\u001b[0m\n\u001b[1;32m    398\u001b[0m feat_idxs \u001b[38;5;241m=\u001b[39m np\u001b[38;5;241m.\u001b[39mrandom\u001b[38;5;241m.\u001b[39mchoice(n_features, \u001b[38;5;28mself\u001b[39m\u001b[38;5;241m.\u001b[39mn_feats, replace\u001b[38;5;241m=\u001b[39m\u001b[38;5;28;01mFalse\u001b[39;00m)\n\u001b[1;32m    400\u001b[0m \u001b[38;5;66;03m# greedily select the best split according to information gain\u001b[39;00m\n\u001b[0;32m--> 401\u001b[0m best_feat, best_thresh \u001b[38;5;241m=\u001b[39m \u001b[38;5;28;43mself\u001b[39;49m\u001b[38;5;241;43m.\u001b[39;49m\u001b[43m_best_criteria\u001b[49m\u001b[43m(\u001b[49m\u001b[43mX\u001b[49m\u001b[43m,\u001b[49m\u001b[43m \u001b[49m\u001b[43my\u001b[49m\u001b[43m,\u001b[49m\u001b[43m \u001b[49m\u001b[43mfeat_idxs\u001b[49m\u001b[43m)\u001b[49m\n\u001b[1;32m    403\u001b[0m \u001b[38;5;66;03m# grow the children that result from the split\u001b[39;00m\n\u001b[1;32m    404\u001b[0m left_idxs, right_idxs \u001b[38;5;241m=\u001b[39m \u001b[38;5;28mself\u001b[39m\u001b[38;5;241m.\u001b[39m_split(X[:, best_feat], best_thresh)\n",
      "File \u001b[0;32m~/Downloads/Actuales/ML/ML-TP3/Problema 2/funciones_2.py:416\u001b[0m, in \u001b[0;36mDecisionTree._best_criteria\u001b[0;34m(self, X, y, feat_idxs)\u001b[0m\n\u001b[1;32m    414\u001b[0m thresholds \u001b[38;5;241m=\u001b[39m np\u001b[38;5;241m.\u001b[39munique(X_column)\n\u001b[1;32m    415\u001b[0m \u001b[38;5;28;01mfor\u001b[39;00m threshold \u001b[38;5;129;01min\u001b[39;00m thresholds:\n\u001b[0;32m--> 416\u001b[0m     gain \u001b[38;5;241m=\u001b[39m \u001b[38;5;28;43mself\u001b[39;49m\u001b[38;5;241;43m.\u001b[39;49m\u001b[43m_information_gain\u001b[49m\u001b[43m(\u001b[49m\u001b[43my\u001b[49m\u001b[43m,\u001b[49m\u001b[43m \u001b[49m\u001b[43mX_column\u001b[49m\u001b[43m,\u001b[49m\u001b[43m \u001b[49m\u001b[43mthreshold\u001b[49m\u001b[43m)\u001b[49m\n\u001b[1;32m    418\u001b[0m     \u001b[38;5;28;01mif\u001b[39;00m gain \u001b[38;5;241m>\u001b[39m best_gain:\n\u001b[1;32m    419\u001b[0m         best_gain \u001b[38;5;241m=\u001b[39m gain\n",
      "File \u001b[0;32m~/Downloads/Actuales/ML/ML-TP3/Problema 2/funciones_2.py:430\u001b[0m, in \u001b[0;36mDecisionTree._information_gain\u001b[0;34m(self, y, X_column, split_thresh)\u001b[0m\n\u001b[1;32m    427\u001b[0m parent_entropy \u001b[38;5;241m=\u001b[39m entropy(y)\n\u001b[1;32m    429\u001b[0m \u001b[38;5;66;03m# generate split\u001b[39;00m\n\u001b[0;32m--> 430\u001b[0m left_idxs, right_idxs \u001b[38;5;241m=\u001b[39m \u001b[38;5;28;43mself\u001b[39;49m\u001b[38;5;241;43m.\u001b[39;49m\u001b[43m_split\u001b[49m\u001b[43m(\u001b[49m\u001b[43mX_column\u001b[49m\u001b[43m,\u001b[49m\u001b[43m \u001b[49m\u001b[43msplit_thresh\u001b[49m\u001b[43m)\u001b[49m\n\u001b[1;32m    432\u001b[0m \u001b[38;5;28;01mif\u001b[39;00m \u001b[38;5;28mlen\u001b[39m(left_idxs) \u001b[38;5;241m==\u001b[39m \u001b[38;5;241m0\u001b[39m \u001b[38;5;129;01mor\u001b[39;00m \u001b[38;5;28mlen\u001b[39m(right_idxs) \u001b[38;5;241m==\u001b[39m \u001b[38;5;241m0\u001b[39m:\n\u001b[1;32m    433\u001b[0m     \u001b[38;5;28;01mreturn\u001b[39;00m \u001b[38;5;241m0\u001b[39m\n",
      "File \u001b[0;32m~/Downloads/Actuales/ML/ML-TP3/Problema 2/funciones_2.py:447\u001b[0m, in \u001b[0;36mDecisionTree._split\u001b[0;34m(self, X_column, split_thresh)\u001b[0m\n\u001b[1;32m    445\u001b[0m \u001b[38;5;28;01mdef\u001b[39;00m \u001b[38;5;21m_split\u001b[39m(\u001b[38;5;28mself\u001b[39m, X_column, split_thresh):\n\u001b[1;32m    446\u001b[0m     left_idxs \u001b[38;5;241m=\u001b[39m np\u001b[38;5;241m.\u001b[39margwhere(X_column \u001b[38;5;241m<\u001b[39m\u001b[38;5;241m=\u001b[39m split_thresh)\u001b[38;5;241m.\u001b[39mflatten()\n\u001b[0;32m--> 447\u001b[0m     right_idxs \u001b[38;5;241m=\u001b[39m \u001b[43mnp\u001b[49m\u001b[38;5;241;43m.\u001b[39;49m\u001b[43margwhere\u001b[49m\u001b[43m(\u001b[49m\u001b[43mX_column\u001b[49m\u001b[43m \u001b[49m\u001b[38;5;241;43m>\u001b[39;49m\u001b[43m \u001b[49m\u001b[43msplit_thresh\u001b[49m\u001b[43m)\u001b[49m\u001b[38;5;241m.\u001b[39mflatten()\n\u001b[1;32m    448\u001b[0m     \u001b[38;5;28;01mreturn\u001b[39;00m left_idxs, right_idxs\n",
      "File \u001b[0;32m<__array_function__ internals>:200\u001b[0m, in \u001b[0;36margwhere\u001b[0;34m(*args, **kwargs)\u001b[0m\n",
      "File \u001b[0;32m~/opt/anaconda3/envs/ml/lib/python3.8/site-packages/numpy/core/numeric.py:625\u001b[0m, in \u001b[0;36margwhere\u001b[0;34m(a)\u001b[0m\n\u001b[1;32m    623\u001b[0m     \u001b[38;5;66;03m# then remove the added dimension\u001b[39;00m\n\u001b[1;32m    624\u001b[0m     \u001b[38;5;28;01mreturn\u001b[39;00m argwhere(a)[:,:\u001b[38;5;241m0\u001b[39m]\n\u001b[0;32m--> 625\u001b[0m \u001b[38;5;28;01mreturn\u001b[39;00m \u001b[43mtranspose\u001b[49m\u001b[43m(\u001b[49m\u001b[43mnonzero\u001b[49m\u001b[43m(\u001b[49m\u001b[43ma\u001b[49m\u001b[43m)\u001b[49m\u001b[43m)\u001b[49m\n",
      "File \u001b[0;32m<__array_function__ internals>:200\u001b[0m, in \u001b[0;36mtranspose\u001b[0;34m(*args, **kwargs)\u001b[0m\n",
      "File \u001b[0;32m~/opt/anaconda3/envs/ml/lib/python3.8/site-packages/numpy/core/fromnumeric.py:668\u001b[0m, in \u001b[0;36mtranspose\u001b[0;34m(a, axes)\u001b[0m\n\u001b[1;32m    601\u001b[0m \u001b[38;5;129m@array_function_dispatch\u001b[39m(_transpose_dispatcher)\n\u001b[1;32m    602\u001b[0m \u001b[38;5;28;01mdef\u001b[39;00m \u001b[38;5;21mtranspose\u001b[39m(a, axes\u001b[38;5;241m=\u001b[39m\u001b[38;5;28;01mNone\u001b[39;00m):\n\u001b[1;32m    603\u001b[0m \u001b[38;5;250m    \u001b[39m\u001b[38;5;124;03m\"\"\"\u001b[39;00m\n\u001b[1;32m    604\u001b[0m \u001b[38;5;124;03m    Returns an array with axes transposed.\u001b[39;00m\n\u001b[1;32m    605\u001b[0m \n\u001b[0;32m   (...)\u001b[0m\n\u001b[1;32m    666\u001b[0m \n\u001b[1;32m    667\u001b[0m \u001b[38;5;124;03m    \"\"\"\u001b[39;00m\n\u001b[0;32m--> 668\u001b[0m     \u001b[38;5;28;01mreturn\u001b[39;00m \u001b[43m_wrapfunc\u001b[49m\u001b[43m(\u001b[49m\u001b[43ma\u001b[49m\u001b[43m,\u001b[49m\u001b[43m \u001b[49m\u001b[38;5;124;43m'\u001b[39;49m\u001b[38;5;124;43mtranspose\u001b[39;49m\u001b[38;5;124;43m'\u001b[39;49m\u001b[43m,\u001b[49m\u001b[43m \u001b[49m\u001b[43maxes\u001b[49m\u001b[43m)\u001b[49m\n",
      "File \u001b[0;32m~/opt/anaconda3/envs/ml/lib/python3.8/site-packages/numpy/core/fromnumeric.py:54\u001b[0m, in \u001b[0;36m_wrapfunc\u001b[0;34m(obj, method, *args, **kwds)\u001b[0m\n\u001b[1;32m     52\u001b[0m bound \u001b[38;5;241m=\u001b[39m \u001b[38;5;28mgetattr\u001b[39m(obj, method, \u001b[38;5;28;01mNone\u001b[39;00m)\n\u001b[1;32m     53\u001b[0m \u001b[38;5;28;01mif\u001b[39;00m bound \u001b[38;5;129;01mis\u001b[39;00m \u001b[38;5;28;01mNone\u001b[39;00m:\n\u001b[0;32m---> 54\u001b[0m     \u001b[38;5;28;01mreturn\u001b[39;00m \u001b[43m_wrapit\u001b[49m\u001b[43m(\u001b[49m\u001b[43mobj\u001b[49m\u001b[43m,\u001b[49m\u001b[43m \u001b[49m\u001b[43mmethod\u001b[49m\u001b[43m,\u001b[49m\u001b[43m \u001b[49m\u001b[38;5;241;43m*\u001b[39;49m\u001b[43margs\u001b[49m\u001b[43m,\u001b[49m\u001b[43m \u001b[49m\u001b[38;5;241;43m*\u001b[39;49m\u001b[38;5;241;43m*\u001b[39;49m\u001b[43mkwds\u001b[49m\u001b[43m)\u001b[49m\n\u001b[1;32m     56\u001b[0m \u001b[38;5;28;01mtry\u001b[39;00m:\n\u001b[1;32m     57\u001b[0m     \u001b[38;5;28;01mreturn\u001b[39;00m bound(\u001b[38;5;241m*\u001b[39margs, \u001b[38;5;241m*\u001b[39m\u001b[38;5;241m*\u001b[39mkwds)\n",
      "File \u001b[0;32m~/opt/anaconda3/envs/ml/lib/python3.8/site-packages/numpy/core/fromnumeric.py:43\u001b[0m, in \u001b[0;36m_wrapit\u001b[0;34m(obj, method, *args, **kwds)\u001b[0m\n\u001b[1;32m     41\u001b[0m \u001b[38;5;28;01mexcept\u001b[39;00m \u001b[38;5;167;01mAttributeError\u001b[39;00m:\n\u001b[1;32m     42\u001b[0m     wrap \u001b[38;5;241m=\u001b[39m \u001b[38;5;28;01mNone\u001b[39;00m\n\u001b[0;32m---> 43\u001b[0m result \u001b[38;5;241m=\u001b[39m \u001b[38;5;28mgetattr\u001b[39m(\u001b[43masarray\u001b[49m\u001b[43m(\u001b[49m\u001b[43mobj\u001b[49m\u001b[43m)\u001b[49m, method)(\u001b[38;5;241m*\u001b[39margs, \u001b[38;5;241m*\u001b[39m\u001b[38;5;241m*\u001b[39mkwds)\n\u001b[1;32m     44\u001b[0m \u001b[38;5;28;01mif\u001b[39;00m wrap:\n\u001b[1;32m     45\u001b[0m     \u001b[38;5;28;01mif\u001b[39;00m \u001b[38;5;129;01mnot\u001b[39;00m \u001b[38;5;28misinstance\u001b[39m(result, mu\u001b[38;5;241m.\u001b[39mndarray):\n",
      "\u001b[0;31mKeyboardInterrupt\u001b[0m: "
     ]
    }
   ],
   "source": [
    "dec_tree = DecisionTree(max_depth=3)\n",
    "dec_tree.fit(X_train.values, y_train)\n",
    "y_dec_tree_valid_pred = dec_tree.predict(X_validation)"
   ]
  },
  {
   "cell_type": "markdown",
   "metadata": {},
   "source": [
    "## (b)\n",
    "Volver a entrenar ambos modelos (red neuronal y bosque aleatorio), aplicando cada una de las siguientes técnicas de re-balanceo. Para cada modelo, y cada tecnica de re-balanceo, reportar las métricas de performance mencionadas en el inciso anterior.\n",
    "\n",
    " - Undersampling: eliminar muestras de la clase mayoritaria de manera aleatoria hasta que ambas clases tengan igual proporción.\n",
    "\n",
    " - Oversampling by duplication: duplicar muestras de la clase minoritaria de manera aleatoria, hasta que que ambas clases tengan igual proporción.\n",
    "\n",
    " - Cost re-weighting: en la función de costo, multiplicar los terminos que dependen de las muestras de la clase minoritaria por un factor $C = \\frac{\\pi _2} {\\pi _1}$\n",
    " - SMOTE (Synthetic Minority Oversampling Technique): hasta que ambas clases tengan igual proporción.\n",
    " - Opcional: Explorar distintas configuraciones de red neuronal (diferente nu ́mero de capas, unidades ocultas, optimizador, learning rate, batch size) y/o del bosque aleatorio y reportar cual cree que es “el mejor”."
   ]
  },
  {
   "cell_type": "markdown",
   "metadata": {},
   "source": [
    "## (c)\n",
    "Sea un problema de clasifiación binaria, donde el proceso estocástico que genera los datos tiene una distribución a posteriori $P(Cj/x)$ tal que para N suficientemente grande las clases no son linealmente separables en el espacio de features (es decir, las muestras de las dos clases tienen algun grado de solapamiento cuando son proyectadas sobre el espacio de features). Sean $π1 = P(C1)$ y $π2 = P(C2)$ las probabilidades marginales de que el proceso genere una muestra de la clase 1 y la clase 2, respectivamente, explicar por qué si utilizamos regresión logística binaria, sin aplicar ninguna técnica de re-balanceo, a medida que $π1$ tiende a 0 y con $N$ suficientemente grande, el accuracy tiende a 1 mientras que el precision tiende a 0.\n",
    "\n",
    "NOTA: Este resultado es general, y aplica a cualquier clasificador “no-sezgado” (como los que vimos en clase), no solamente a regresión log ́ıstica.\n"
   ]
  }
 ],
 "metadata": {
  "kernelspec": {
   "display_name": "ml",
   "language": "python",
   "name": "python3"
  },
  "language_info": {
   "codemirror_mode": {
    "name": "ipython",
    "version": 3
   },
   "file_extension": ".py",
   "mimetype": "text/x-python",
   "name": "python",
   "nbconvert_exporter": "python",
   "pygments_lexer": "ipython3",
   "version": "3.8.18"
  }
 },
 "nbformat": 4,
 "nbformat_minor": 2
}
