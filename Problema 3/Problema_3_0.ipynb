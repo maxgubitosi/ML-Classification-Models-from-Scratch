{
 "cells": [
  {
   "cell_type": "code",
   "execution_count": 24,
   "metadata": {},
   "outputs": [
    {
     "name": "stdout",
     "output_type": "stream",
     "text": [
      "The autoreload extension is already loaded. To reload it, use:\n",
      "  %reload_ext autoreload\n"
     ]
    }
   ],
   "source": [
    "%load_ext autoreload\n",
    "%autoreload 2\n",
    "\n",
    "import numpy as np\n",
    "import matplotlib.pyplot as plt\n",
    "import pandas as pd\n",
    "from funciones_3 import *"
   ]
  },
  {
   "cell_type": "markdown",
   "metadata": {},
   "source": [
    "# Evaluación de Aceptación de Vehículos. \n",
    "Usted trabaja en el equipo de Machine Learning de una empresa que comercializa vehículos online, y se le ha pedido que desarrolle un modelo para predecir el grado de aceptabilidad de vehículos por parte de los clientes.\n",
    "Para ello le ha sido dado un conjunto de datos recolectados durante 2 años de operación de la empresa, en donde se reporta el precio de venta, costo de mantenimiento, nu ́mero de puertas, capacidad de pasajeros, tamaño del baíl y seguridad estimada de distinos vehículos, así como el grado de aceptación de estos vehículos por parte de los clientes. La aceptación de un vehículo puede interpretarse como la medida en que este cumple con las necesidades, preferencias y requisitos del cliente y se reporta en cuatro categorías: “inaceptable”, “aceptable”, “buena” y “muy buena”. El con- junto de datos se dividió previamente en uno de entrenamiento (car train.csv), uno de validación (car valid.csv) y uno de testeo (car test.csv).\n",
    "Desarrollar al menos dos modelos predictivos distintos que estimen el nivel de aceptación de un vehículo, en base a sus atributos. Explicar cual de todos los modelos desarrollados se debe poner en producción, teniendo en cuenta que lo que más le interesa a la empresa es identifcar bien los vehiculos que son “inaceptables”, así como los que son “muy buenos”, ya que los primeros representan un cliente insastisfecho, y los segundos son los vehículos que se quieren promocionar más.\n",
    "Describa claramente cua ́l fue la estrategia y el proceso que llevó a cabo para llegar al modelo que enviará a producción (o sea, el que usted considera “el mejor” modelo de todos).\n",
    "\n",
    "NOTA: cuando se dice “al menos dos modelos predictivos distintos” esto quiere decir dos modelos con arquitecuras distintas. Por ejemplo, LDA y regresion logística son dos arquitecturas distintas, porque por su estructura de ecuaciones parametrizan el espacio de clasificación de manera diferente, mientras que regresión logistica y red neuronal con activación de salida sigmoide son arquitecturas de alguna manera iguales, ya que la primera es un caso particular de la segunda (regresión logística es esencialmente una red neuronal sin capas ocultas y activación sigmoide). La idea es que generen una diversidad de modelos, y quedarse con el que mejor capacidad predictiva tiene para ese problema en particular."
   ]
  },
  {
   "cell_type": "code",
   "execution_count": 25,
   "metadata": {},
   "outputs": [
    {
     "name": "stdout",
     "output_type": "stream",
     "text": [
      "train shape:  (1209, 22)\n",
      "\n",
      "test shape:  (260, 22)\n",
      "\n",
      "validation shape:  (259, 22)\n"
     ]
    }
   ],
   "source": [
    "train = pd.read_csv('/Users/maxi/Downloads/Actuales/ML/ML-TP3/Data/3 - Evaluación de Aceptación de Vehı́culos/car_train.csv')\n",
    "test = pd.read_csv('/Users/maxi/Downloads/Actuales/ML/ML-TP3/Data/3 - Evaluación de Aceptación de Vehı́culos/car_test.csv')\n",
    "validation = pd.read_csv('/Users/maxi/Downloads/Actuales/ML/ML-TP3/Data/3 - Evaluación de Aceptación de Vehı́culos/car_valid.csv')\n",
    "\n",
    "# one hot encoding\n",
    "train = one_hot_encoder(train, ['buying', 'maint', 'doors', 'persons', 'lug_boot', 'safety'])\n",
    "test = one_hot_encoder(test, ['buying', 'maint', 'doors', 'persons', 'lug_boot', 'safety'])\n",
    "validation = one_hot_encoder(validation, ['buying', 'maint', 'doors', 'persons', 'lug_boot', 'safety'])\n",
    "                                          \n",
    "# target encoding   # unacc:0, acc: 1, good: 2, vgood: 3\n",
    "train['acceptability'] = train['acceptability'].map({'unacc': 0, 'acc': 1, 'good': 2, 'vgood': 3})\n",
    "test['acceptability'] = test['acceptability'].map({'unacc': 0, 'acc': 1, 'good': 2, 'vgood': 3})\n",
    "validation['acceptability'] = validation['acceptability'].map({'unacc': 0, 'acc': 1, 'good': 2, 'vgood': 3})\n",
    "\n",
    "# normalize all data\n",
    "# min_max = get_min_max(train)\n",
    "# train = min_max_normalize(train, min_max)\n",
    "# test = min_max_normalize(test, min_max)\n",
    "# validation = min_max_normalize(validation, min_max)\n",
    "\n",
    "# if any column has a missing value replace with cero\n",
    "# train = train.fillna(0)\n",
    "# test = test.fillna(0)\n",
    "# validation = validation.fillna(0)\n",
    "\n",
    "print(\"train shape: \", train.shape)\n",
    "print(\"\\ntest shape: \", test.shape)\n",
    "print(\"\\nvalidation shape: \", validation.shape)"
   ]
  },
  {
   "cell_type": "markdown",
   "metadata": {},
   "source": [
    "En el bloque anterior se bajó la información del dataset. Como todas las variables eran categóricas se pasaron a valores númericos y se realizó one hot encoding para armar un feature con cada clase."
   ]
  },
  {
   "cell_type": "code",
   "execution_count": 26,
   "metadata": {},
   "outputs": [
    {
     "name": "stdout",
     "output_type": "stream",
     "text": [
      "train:\n",
      "acceptability\n",
      "0    847\n",
      "1    269\n",
      "2     48\n",
      "3     45\n",
      "Name: count, dtype: int64\n"
     ]
    }
   ],
   "source": [
    "# Identify how many samples we have for each class in the training set\n",
    "print(\"train:\")\n",
    "print(train['acceptability'].value_counts())"
   ]
  },
  {
   "cell_type": "markdown",
   "metadata": {},
   "source": [
    "Las clases están desbalanceadas y tengo interés por lograr clasificar específicamente bien los datos de las clases 0 y 3, pero la 3 es una clase minoritaria. Para mejorar la precisión de mis modelos uso la estrategia de  Oversampling."
   ]
  },
  {
   "cell_type": "code",
   "execution_count": 27,
   "metadata": {},
   "outputs": [
    {
     "name": "stdout",
     "output_type": "stream",
     "text": [
      "train (after Oversampling):\n",
      "acceptability\n",
      "0    847\n",
      "1    269\n",
      "2     96\n",
      "3     90\n",
      "Name: count, dtype: int64\n"
     ]
    }
   ],
   "source": [
    "# Oversampling: duplico todos los datos de las clases 2 y 3 del train\n",
    "class_2 = train[train['acceptability'] == 2]\n",
    "class_3 = train[train['acceptability'] == 3]\n",
    "\n",
    "double_class_2 = pd.concat([class_2], ignore_index=True)\n",
    "double_class_3 = pd.concat([class_3], ignore_index=True)\n",
    "\n",
    "train = pd.concat([train, double_class_2, double_class_3], ignore_index=True)\n",
    "\n",
    "print(\"train (after Oversampling):\")\n",
    "print(train['acceptability'].value_counts())"
   ]
  },
  {
   "cell_type": "markdown",
   "metadata": {},
   "source": [
    "Ahora el train dataset cuenta con más datos de las clases minoritarias."
   ]
  },
  {
   "cell_type": "code",
   "execution_count": 28,
   "metadata": {},
   "outputs": [
    {
     "name": "stdout",
     "output_type": "stream",
     "text": [
      "X_train shape:  (1302, 21)\n",
      "y_train shape:  (1302,)\n",
      "X_test shape:  (260, 21)\n",
      "y_test shape:  (260,)\n",
      "X_validation shape:  (259, 21)\n",
      "y_validation shape:  (259,)\n"
     ]
    },
    {
     "data": {
      "text/html": [
       "<div>\n",
       "<style scoped>\n",
       "    .dataframe tbody tr th:only-of-type {\n",
       "        vertical-align: middle;\n",
       "    }\n",
       "\n",
       "    .dataframe tbody tr th {\n",
       "        vertical-align: top;\n",
       "    }\n",
       "\n",
       "    .dataframe thead th {\n",
       "        text-align: right;\n",
       "    }\n",
       "</style>\n",
       "<table border=\"1\" class=\"dataframe\">\n",
       "  <thead>\n",
       "    <tr style=\"text-align: right;\">\n",
       "      <th></th>\n",
       "      <th>acceptability</th>\n",
       "      <th>buying_high</th>\n",
       "      <th>buying_low</th>\n",
       "      <th>buying_med</th>\n",
       "      <th>buying_vhigh</th>\n",
       "      <th>maint_high</th>\n",
       "      <th>maint_low</th>\n",
       "      <th>maint_med</th>\n",
       "      <th>maint_vhigh</th>\n",
       "      <th>doors_2</th>\n",
       "      <th>doors_3</th>\n",
       "      <th>doors_4</th>\n",
       "      <th>doors_5more</th>\n",
       "      <th>persons_2</th>\n",
       "      <th>persons_4</th>\n",
       "      <th>persons_more</th>\n",
       "      <th>lug_boot_big</th>\n",
       "      <th>lug_boot_med</th>\n",
       "      <th>lug_boot_small</th>\n",
       "      <th>safety_high</th>\n",
       "      <th>safety_low</th>\n",
       "      <th>safety_med</th>\n",
       "    </tr>\n",
       "  </thead>\n",
       "  <tbody>\n",
       "    <tr>\n",
       "      <th>0</th>\n",
       "      <td>0</td>\n",
       "      <td>0</td>\n",
       "      <td>0</td>\n",
       "      <td>1</td>\n",
       "      <td>0</td>\n",
       "      <td>1</td>\n",
       "      <td>0</td>\n",
       "      <td>0</td>\n",
       "      <td>0</td>\n",
       "      <td>0</td>\n",
       "      <td>0</td>\n",
       "      <td>0</td>\n",
       "      <td>1</td>\n",
       "      <td>0</td>\n",
       "      <td>0</td>\n",
       "      <td>1</td>\n",
       "      <td>0</td>\n",
       "      <td>0</td>\n",
       "      <td>1</td>\n",
       "      <td>0</td>\n",
       "      <td>1</td>\n",
       "      <td>0</td>\n",
       "    </tr>\n",
       "    <tr>\n",
       "      <th>1</th>\n",
       "      <td>0</td>\n",
       "      <td>0</td>\n",
       "      <td>0</td>\n",
       "      <td>1</td>\n",
       "      <td>0</td>\n",
       "      <td>0</td>\n",
       "      <td>0</td>\n",
       "      <td>1</td>\n",
       "      <td>0</td>\n",
       "      <td>0</td>\n",
       "      <td>1</td>\n",
       "      <td>0</td>\n",
       "      <td>0</td>\n",
       "      <td>1</td>\n",
       "      <td>0</td>\n",
       "      <td>0</td>\n",
       "      <td>1</td>\n",
       "      <td>0</td>\n",
       "      <td>0</td>\n",
       "      <td>0</td>\n",
       "      <td>1</td>\n",
       "      <td>0</td>\n",
       "    </tr>\n",
       "    <tr>\n",
       "      <th>2</th>\n",
       "      <td>0</td>\n",
       "      <td>0</td>\n",
       "      <td>0</td>\n",
       "      <td>0</td>\n",
       "      <td>1</td>\n",
       "      <td>1</td>\n",
       "      <td>0</td>\n",
       "      <td>0</td>\n",
       "      <td>0</td>\n",
       "      <td>0</td>\n",
       "      <td>0</td>\n",
       "      <td>1</td>\n",
       "      <td>0</td>\n",
       "      <td>0</td>\n",
       "      <td>1</td>\n",
       "      <td>0</td>\n",
       "      <td>0</td>\n",
       "      <td>0</td>\n",
       "      <td>1</td>\n",
       "      <td>0</td>\n",
       "      <td>0</td>\n",
       "      <td>1</td>\n",
       "    </tr>\n",
       "    <tr>\n",
       "      <th>3</th>\n",
       "      <td>3</td>\n",
       "      <td>0</td>\n",
       "      <td>1</td>\n",
       "      <td>0</td>\n",
       "      <td>0</td>\n",
       "      <td>1</td>\n",
       "      <td>0</td>\n",
       "      <td>0</td>\n",
       "      <td>0</td>\n",
       "      <td>0</td>\n",
       "      <td>1</td>\n",
       "      <td>0</td>\n",
       "      <td>0</td>\n",
       "      <td>0</td>\n",
       "      <td>1</td>\n",
       "      <td>0</td>\n",
       "      <td>1</td>\n",
       "      <td>0</td>\n",
       "      <td>0</td>\n",
       "      <td>1</td>\n",
       "      <td>0</td>\n",
       "      <td>0</td>\n",
       "    </tr>\n",
       "    <tr>\n",
       "      <th>4</th>\n",
       "      <td>0</td>\n",
       "      <td>0</td>\n",
       "      <td>1</td>\n",
       "      <td>0</td>\n",
       "      <td>0</td>\n",
       "      <td>0</td>\n",
       "      <td>0</td>\n",
       "      <td>1</td>\n",
       "      <td>0</td>\n",
       "      <td>1</td>\n",
       "      <td>0</td>\n",
       "      <td>0</td>\n",
       "      <td>0</td>\n",
       "      <td>0</td>\n",
       "      <td>1</td>\n",
       "      <td>0</td>\n",
       "      <td>1</td>\n",
       "      <td>0</td>\n",
       "      <td>0</td>\n",
       "      <td>0</td>\n",
       "      <td>1</td>\n",
       "      <td>0</td>\n",
       "    </tr>\n",
       "  </tbody>\n",
       "</table>\n",
       "</div>"
      ],
      "text/plain": [
       "   acceptability  buying_high  buying_low  buying_med  buying_vhigh  \\\n",
       "0              0            0           0           1             0   \n",
       "1              0            0           0           1             0   \n",
       "2              0            0           0           0             1   \n",
       "3              3            0           1           0             0   \n",
       "4              0            0           1           0             0   \n",
       "\n",
       "   maint_high  maint_low  maint_med  maint_vhigh  doors_2  doors_3  doors_4  \\\n",
       "0           1          0          0            0        0        0        0   \n",
       "1           0          0          1            0        0        1        0   \n",
       "2           1          0          0            0        0        0        1   \n",
       "3           1          0          0            0        0        1        0   \n",
       "4           0          0          1            0        1        0        0   \n",
       "\n",
       "   doors_5more  persons_2  persons_4  persons_more  lug_boot_big  \\\n",
       "0            1          0          0             1             0   \n",
       "1            0          1          0             0             1   \n",
       "2            0          0          1             0             0   \n",
       "3            0          0          1             0             1   \n",
       "4            0          0          1             0             1   \n",
       "\n",
       "   lug_boot_med  lug_boot_small  safety_high  safety_low  safety_med  \n",
       "0             0               1            0           1           0  \n",
       "1             0               0            0           1           0  \n",
       "2             0               1            0           0           1  \n",
       "3             0               0            1           0           0  \n",
       "4             0               0            0           1           0  "
      ]
     },
     "execution_count": 28,
     "metadata": {},
     "output_type": "execute_result"
    }
   ],
   "source": [
    "X_train = train.drop(columns=['acceptability'])\n",
    "y_train = train['acceptability'].values\n",
    "\n",
    "X_test = test.drop(columns=['acceptability'])\n",
    "y_test = test['acceptability'].values\n",
    "\n",
    "X_validation = validation.drop(columns=['acceptability'])\n",
    "y_validation = validation['acceptability'].values\n",
    "\n",
    "print(\"X_train shape: \", X_train.shape)\n",
    "print(\"y_train shape: \", y_train.shape)\n",
    "print(\"X_test shape: \", X_test.shape)\n",
    "print(\"y_test shape: \", y_test.shape)\n",
    "print(\"X_validation shape: \", X_validation.shape)\n",
    "print(\"y_validation shape: \", y_validation.shape)\n",
    "\n",
    "pd.set_option('display.max_columns', None)\n",
    "train.head()\n",
    "test.head()\n",
    "validation.head()\n",
    "# X_train.head()\n",
    "# y_train\n",
    "\n",
    "# # show all rows\n",
    "# pd.set_option('display.max_rows', None)\n",
    "# train"
   ]
  },
  {
   "cell_type": "markdown",
   "metadata": {},
   "source": [
    "## KNN\n",
    "Prueblo de aplicar un modelo de KNN, este modelo probablemente sea inferior al otro, pero sirve como baseline."
   ]
  },
  {
   "cell_type": "code",
   "execution_count": 40,
   "metadata": {},
   "outputs": [
    {
     "data": {
      "image/png": "[encoded data removed]",
      "text/plain": [
       "<Figure size 640x480 with 1 Axes>"
      ]
     },
     "metadata": {},
     "output_type": "display_data"
    },
    {
     "name": "stdout",
     "output_type": "stream",
     "text": [
      "Accuracy:  0.8108108108108109\n",
      "Precision class 0:  0.9392265193370166\n",
      "Precision class 3:  0.5\n"
     ]
    }
   ],
   "source": [
    "knn_model = KNN(k=3)\n",
    "knn_model.fit(X_train, y_train)\n",
    "y_pred_knn = knn_model.predict(X_validation)\n",
    "TP_knn, TN_knn, FP_knn, FN_knn = confusion_matrix(y_validation, y_pred_knn, model_name='KNN')\n",
    "print(\"Accuracy: \", accuracy(y_validation, y_pred_knn))\n",
    "print(\"Precision class 0: \", prec_class_0(y_validation, y_pred_knn))\n",
    "print(\"Precision class 3: \", prec_class_3(y_validation, y_pred_knn))"
   ]
  },
  {
   "cell_type": "markdown",
   "metadata": {},
   "source": [
    "Se puede observar que el accuracy general es decente, el accuracy de la clase 0 es el más alto, pero el accuracy para la clase 3 es de un 50%, lo cual es inaceptable."
   ]
  },
  {
   "cell_type": "markdown",
   "metadata": {},
   "source": [
    "## Árbol de Decisión\n",
    "Pruebo de aplicar un Árbol de decisión. Nuevamente no pretendo que este sea el mejor modelo, sino que lo implemento para ver como funciona y que resultados se logran con un árbol solo antes de aprovechar el uso de métodos de ensamble.\n"
   ]
  },
  {
   "cell_type": "code",
   "execution_count": 41,
   "metadata": {},
   "outputs": [
    {
     "data": {
      "image/png": "[encoded data removed]",
      "text/plain": [
       "<Figure size 640x480 with 1 Axes>"
      ]
     },
     "metadata": {},
     "output_type": "display_data"
    },
    {
     "name": "stdout",
     "output_type": "stream",
     "text": [
      "Accuracy:  0.9845559845559846\n",
      "Precision class 0:  0.988950276243094\n",
      "Precision class 3:  1.0\n"
     ]
    }
   ],
   "source": [
    "dt_model = DecisionTree(max_depth=10)\n",
    "dt_model.fit(X_train.values, y_train)\n",
    "y_pred_dt = dt_model.predict(X_validation.values)\n",
    "cf_dt = confusion_matrix(y_validation, y_pred_dt, model_name='Decision Tree')\n",
    "print(\"Accuracy: \", accuracy(y_validation, y_pred_dt))\n",
    "print(\"Precision class 0: \", prec_class_0(y_validation, y_pred_dt))\n",
    "print(\"Precision class 3: \", prec_class_3(y_validation, y_pred_dt))\n"
   ]
  },
  {
   "cell_type": "markdown",
   "metadata": {},
   "source": [
    "En este caso todos los accuracies calculados son muy altos y parecería un modelo aceptable para poner en producción. Pero antes hay que hacer mas pruebas."
   ]
  },
  {
   "cell_type": "markdown",
   "metadata": {},
   "source": [
    "## Random Forest\n",
    "Pruebo de aplicar un random forest. Espero que este sea el modelo que de los mejores resultados."
   ]
  },
  {
   "cell_type": "code",
   "execution_count": 39,
   "metadata": {},
   "outputs": [
    {
     "name": "stderr",
     "output_type": "stream",
     "text": [
      "100%|██████████| 100/100 [00:07<00:00, 13.31it/s]\n"
     ]
    },
    {
     "data": {
      "image/png": "[encoded data removed]",
      "text/plain": [
       "<Figure size 640x480 with 1 Axes>"
      ]
     },
     "metadata": {},
     "output_type": "display_data"
    },
    {
     "name": "stdout",
     "output_type": "stream",
     "text": [
      "Accuracy:  0.9806949806949807\n",
      "Precision class 0:  0.988950276243094\n",
      "Precision class 3:  1.0\n"
     ]
    }
   ],
   "source": [
    "rf_model = RandomForest(n_trees=100, max_depth=10)\n",
    "rf_model.fit(X_train.values, y_train)\n",
    "y_pred_rf = rf_model.predict(X_validation.values)\n",
    "cf_rf = confusion_matrix(y_validation, y_pred_rf, model_name='Random Forest')\n",
    "print(\"Accuracy: \", accuracy(y_validation, y_pred_rf))\n",
    "print(\"Precision class 0: \", prec_class_0(y_validation, y_pred_rf))\n",
    "print(\"Precision class 3: \", prec_class_3(y_validation, y_pred_rf))"
   ]
  },
  {
   "cell_type": "markdown",
   "metadata": {},
   "source": [
    "En este caso se puede observar que las predicciones, mejoraron un poco respecto de las anteriores y son casi perfectas (en el conjunto de validación)."
   ]
  },
  {
   "cell_type": "code",
   "execution_count": 48,
   "metadata": {},
   "outputs": [
    {
     "name": "stdout",
     "output_type": "stream",
     "text": [
      "Results on test set:\n",
      "KNN\n",
      "Accuracy:  0.8346153846153846\n",
      "Precision class 0:  0.9340659340659341\n",
      "Precision class 3:  0.8\n",
      "\n",
      "Decision Tree\n",
      "Accuracy:  0.9807692307692307\n",
      "Precision class 0:  0.978021978021978\n",
      "Precision class 3:  1.0\n",
      "\n",
      "Random Forest\n",
      "Accuracy:  0.9769230769230769\n",
      "Precision class 0:  0.9835164835164835\n",
      "Precision class 3:  1.0\n"
     ]
    }
   ],
   "source": [
    "# results on test set\n",
    "print(\"Results on test set:\")\n",
    "y_pred = knn_model.predict(X_test)\n",
    "print(\"KNN\")\n",
    "print(\"Accuracy: \", accuracy(y_test, y_pred))\n",
    "print(\"Precision class 0: \", prec_class_0(y_test, y_pred))\n",
    "print(\"Precision class 3: \", prec_class_3(y_test, y_pred))\n",
    "\n",
    "y_pred = dt_model.predict(X_test.values)\n",
    "print(\"\\nDecision Tree\")\n",
    "print(\"Accuracy: \", accuracy(y_test, y_pred))\n",
    "print(\"Precision class 0: \", prec_class_0(y_test, y_pred))\n",
    "print(\"Precision class 3: \", prec_class_3(y_test, y_pred))\n",
    "\n",
    "y_pred = rf_model.predict(X_test.values)\n",
    "print(\"\\nRandom Forest\")\n",
    "print(\"Accuracy: \", accuracy(y_test, y_pred))\n",
    "print(\"Precision class 0: \", prec_class_0(y_test, y_pred))\n",
    "print(\"Precision class 3: \", prec_class_3(y_test, y_pred))"
   ]
  },
  {
   "cell_type": "markdown",
   "metadata": {},
   "source": [
    "Usando RandomForest se están obteniendo excelentes resultados. (Me genera dudas porqué el árbol de decisión da tan similar). Realizó cross-validation con el modelo de Random Forest para encontrar los mejores hiperparámetros para este modelo. Para definir que hiperparámetros son los óptimos tomo como métrica el promedio entre la precisión de las predicciones de clase 0 y 3, que fueron definidas como las clases mas importantes de identificar correctamente.  "
   ]
  },
  {
   "cell_type": "code",
   "execution_count": 43,
   "metadata": {},
   "outputs": [],
   "source": [
    "# max_depths = [5, 8, 10, 12, 15]\n",
    "# forest_sizes = [10, 50, 100, 200]\n",
    "\n",
    "max_depths = [5, 10, 15, 20]\n",
    "forest_sizes = [10, 50, 100, 200]"
   ]
  },
  {
   "cell_type": "code",
   "execution_count": 44,
   "metadata": {},
   "outputs": [
    {
     "name": "stderr",
     "output_type": "stream",
     "text": [
      "100%|██████████| 10/10 [00:00<00:00, 59.70it/s]\n",
      "100%|██████████| 10/10 [00:00<00:00, 40.28it/s]\n",
      "100%|██████████| 10/10 [00:00<00:00, 50.44it/s]\n",
      "100%|██████████| 10/10 [00:00<00:00, 57.89it/s]\n",
      "100%|██████████| 10/10 [00:00<00:00, 57.88it/s]\n",
      "100%|██████████| 10/10 [00:00<00:00, 62.90it/s]\n",
      "100%|██████████| 10/10 [00:00<00:00, 61.62it/s]\n",
      "100%|██████████| 10/10 [00:00<00:00, 57.63it/s]\n",
      "100%|██████████| 10/10 [00:00<00:00, 56.44it/s]\n",
      "100%|██████████| 10/10 [00:00<00:00, 61.89it/s]\n",
      "100%|██████████| 50/50 [00:00<00:00, 60.97it/s]\n",
      "100%|██████████| 50/50 [00:00<00:00, 61.97it/s]\n",
      "100%|██████████| 50/50 [00:00<00:00, 64.39it/s]\n",
      "100%|██████████| 50/50 [00:00<00:00, 63.88it/s]\n",
      "100%|██████████| 50/50 [00:00<00:00, 63.49it/s]\n",
      "100%|██████████| 50/50 [00:00<00:00, 61.82it/s]\n",
      "100%|██████████| 50/50 [00:00<00:00, 62.73it/s]\n",
      "100%|██████████| 50/50 [00:00<00:00, 60.49it/s]\n",
      "100%|██████████| 50/50 [00:00<00:00, 51.98it/s]\n",
      "100%|██████████| 50/50 [00:00<00:00, 59.26it/s]\n",
      "100%|██████████| 100/100 [00:01<00:00, 57.04it/s]\n",
      "100%|██████████| 100/100 [00:01<00:00, 60.81it/s]\n",
      "100%|██████████| 100/100 [00:01<00:00, 57.89it/s]\n",
      "100%|██████████| 100/100 [00:01<00:00, 58.15it/s]\n",
      "100%|██████████| 100/100 [00:02<00:00, 43.83it/s]\n",
      "100%|██████████| 100/100 [00:01<00:00, 62.04it/s]\n",
      "100%|██████████| 100/100 [00:01<00:00, 51.74it/s]\n",
      "100%|██████████| 100/100 [00:01<00:00, 60.91it/s]\n",
      "100%|██████████| 100/100 [00:01<00:00, 57.43it/s]\n",
      "100%|██████████| 100/100 [00:01<00:00, 60.77it/s]\n",
      "100%|██████████| 200/200 [00:03<00:00, 57.22it/s]\n",
      "100%|██████████| 200/200 [00:03<00:00, 61.90it/s]\n",
      "100%|██████████| 200/200 [00:03<00:00, 62.87it/s]\n",
      "100%|██████████| 200/200 [00:03<00:00, 59.54it/s]\n",
      "100%|██████████| 200/200 [00:03<00:00, 60.74it/s]\n",
      "100%|██████████| 200/200 [00:03<00:00, 61.46it/s]\n",
      "100%|██████████| 200/200 [00:03<00:00, 61.26it/s]\n",
      "100%|██████████| 200/200 [00:03<00:00, 62.60it/s]\n",
      "100%|██████████| 200/200 [00:03<00:00, 61.44it/s]\n",
      "100%|██████████| 200/200 [00:03<00:00, 60.62it/s]\n",
      "100%|██████████| 10/10 [00:00<00:00, 14.62it/s]\n",
      "100%|██████████| 10/10 [00:00<00:00, 14.48it/s]\n",
      "100%|██████████| 10/10 [00:00<00:00, 12.68it/s]\n",
      "100%|██████████| 10/10 [00:00<00:00, 14.48it/s]\n",
      "100%|██████████| 10/10 [00:00<00:00, 14.17it/s]\n",
      "100%|██████████| 10/10 [00:00<00:00, 14.67it/s]\n",
      "100%|██████████| 10/10 [00:00<00:00, 14.69it/s]\n",
      "100%|██████████| 10/10 [00:00<00:00, 14.36it/s]\n",
      "100%|██████████| 10/10 [00:00<00:00, 14.37it/s]\n",
      "100%|██████████| 10/10 [00:00<00:00, 15.68it/s]\n",
      "100%|██████████| 50/50 [00:03<00:00, 14.83it/s]\n",
      "100%|██████████| 50/50 [00:03<00:00, 13.59it/s]\n",
      "100%|██████████| 50/50 [00:03<00:00, 14.13it/s]\n",
      "100%|██████████| 50/50 [00:03<00:00, 14.31it/s]\n",
      "100%|██████████| 50/50 [00:03<00:00, 14.58it/s]\n",
      "100%|██████████| 50/50 [00:03<00:00, 14.64it/s]\n",
      "100%|██████████| 50/50 [00:03<00:00, 13.47it/s]\n",
      "100%|██████████| 50/50 [00:03<00:00, 14.40it/s]\n",
      "100%|██████████| 50/50 [00:03<00:00, 14.55it/s]\n",
      "100%|██████████| 50/50 [00:03<00:00, 14.87it/s]\n",
      "100%|██████████| 100/100 [00:07<00:00, 14.19it/s]\n",
      "100%|██████████| 100/100 [00:07<00:00, 13.83it/s]\n",
      "100%|██████████| 100/100 [00:06<00:00, 14.34it/s]\n",
      "100%|██████████| 100/100 [00:07<00:00, 14.11it/s]\n",
      "100%|██████████| 100/100 [00:07<00:00, 14.02it/s]\n",
      "100%|██████████| 100/100 [00:07<00:00, 14.21it/s]\n",
      "100%|██████████| 100/100 [00:10<00:00,  9.52it/s]\n",
      "100%|██████████| 100/100 [00:08<00:00, 12.29it/s]\n",
      "100%|██████████| 100/100 [00:07<00:00, 13.98it/s]\n",
      "100%|██████████| 100/100 [00:07<00:00, 12.95it/s]\n",
      "100%|██████████| 200/200 [00:15<00:00, 12.80it/s]\n",
      "100%|██████████| 200/200 [00:15<00:00, 13.28it/s]\n",
      "100%|██████████| 200/200 [00:14<00:00, 13.74it/s]\n",
      "100%|██████████| 200/200 [00:14<00:00, 13.42it/s]\n",
      "100%|██████████| 200/200 [00:15<00:00, 12.76it/s]\n",
      "100%|██████████| 200/200 [00:14<00:00, 13.50it/s]\n",
      "100%|██████████| 200/200 [00:15<00:00, 12.96it/s]\n",
      "100%|██████████| 200/200 [00:14<00:00, 13.47it/s]\n",
      "100%|██████████| 200/200 [00:14<00:00, 13.42it/s]\n",
      "100%|██████████| 200/200 [00:14<00:00, 13.96it/s]\n",
      "100%|██████████| 10/10 [00:00<00:00, 12.33it/s]\n",
      "100%|██████████| 10/10 [00:00<00:00, 12.97it/s]\n",
      "100%|██████████| 10/10 [00:00<00:00, 12.75it/s]\n",
      "100%|██████████| 10/10 [00:00<00:00, 13.29it/s]\n",
      "100%|██████████| 10/10 [00:00<00:00, 12.73it/s]\n",
      "100%|██████████| 10/10 [00:00<00:00, 13.57it/s]\n",
      "100%|██████████| 10/10 [00:00<00:00, 12.63it/s]\n",
      "100%|██████████| 10/10 [00:00<00:00, 12.65it/s]\n",
      "100%|██████████| 10/10 [00:00<00:00, 13.54it/s]\n",
      "100%|██████████| 10/10 [00:00<00:00, 13.56it/s]\n",
      "100%|██████████| 50/50 [00:03<00:00, 13.60it/s]\n",
      "100%|██████████| 50/50 [00:03<00:00, 13.30it/s]\n",
      "100%|██████████| 50/50 [00:03<00:00, 13.39it/s]\n",
      "100%|██████████| 50/50 [00:03<00:00, 13.14it/s]\n",
      "100%|██████████| 50/50 [00:04<00:00, 11.96it/s]\n",
      "100%|██████████| 50/50 [00:03<00:00, 12.80it/s]\n",
      "100%|██████████| 50/50 [00:03<00:00, 12.95it/s]\n",
      "100%|██████████| 50/50 [00:03<00:00, 12.64it/s]\n",
      "100%|██████████| 50/50 [00:03<00:00, 13.07it/s]\n",
      "100%|██████████| 50/50 [00:03<00:00, 12.90it/s]\n",
      "100%|██████████| 100/100 [00:07<00:00, 13.31it/s]\n",
      "100%|██████████| 100/100 [00:07<00:00, 12.83it/s]\n",
      "100%|██████████| 100/100 [00:07<00:00, 13.32it/s]\n",
      "100%|██████████| 100/100 [00:07<00:00, 13.07it/s]\n",
      "100%|██████████| 100/100 [00:08<00:00, 12.09it/s]\n",
      "100%|██████████| 100/100 [00:07<00:00, 13.10it/s]\n",
      "100%|██████████| 100/100 [00:08<00:00, 11.26it/s]\n",
      "100%|██████████| 100/100 [00:08<00:00, 12.30it/s]\n",
      "100%|██████████| 100/100 [00:07<00:00, 12.73it/s]\n",
      "100%|██████████| 100/100 [00:08<00:00, 11.76it/s]\n",
      "100%|██████████| 200/200 [00:16<00:00, 12.38it/s]\n",
      "100%|██████████| 200/200 [00:16<00:00, 12.44it/s]\n",
      "100%|██████████| 200/200 [00:15<00:00, 12.88it/s]\n",
      "100%|██████████| 200/200 [00:15<00:00, 12.99it/s]\n",
      "100%|██████████| 200/200 [00:16<00:00, 11.89it/s]\n",
      "100%|██████████| 200/200 [00:17<00:00, 11.23it/s]\n",
      "100%|██████████| 200/200 [00:15<00:00, 12.52it/s]\n",
      "100%|██████████| 200/200 [00:15<00:00, 13.00it/s]\n",
      "100%|██████████| 200/200 [00:15<00:00, 12.71it/s]\n",
      "100%|██████████| 200/200 [00:16<00:00, 11.97it/s]\n",
      "100%|██████████| 10/10 [00:00<00:00, 12.77it/s]\n",
      "100%|██████████| 10/10 [00:00<00:00, 10.40it/s]\n",
      "100%|██████████| 10/10 [00:00<00:00, 12.37it/s]\n",
      "100%|██████████| 10/10 [00:01<00:00,  9.78it/s]\n",
      "100%|██████████| 10/10 [00:00<00:00, 12.06it/s]\n",
      "100%|██████████| 10/10 [00:00<00:00, 12.54it/s]\n",
      "100%|██████████| 10/10 [00:00<00:00, 12.23it/s]\n",
      "100%|██████████| 10/10 [00:00<00:00, 11.75it/s]\n",
      "100%|██████████| 10/10 [00:00<00:00, 11.59it/s]\n",
      "100%|██████████| 10/10 [00:00<00:00, 12.01it/s]\n",
      "100%|██████████| 50/50 [00:03<00:00, 13.00it/s]\n",
      "100%|██████████| 50/50 [00:04<00:00, 11.95it/s]\n",
      "100%|██████████| 50/50 [00:03<00:00, 12.59it/s]\n",
      "100%|██████████| 50/50 [00:03<00:00, 12.65it/s]\n",
      "100%|██████████| 50/50 [00:03<00:00, 12.62it/s]\n",
      "100%|██████████| 50/50 [00:03<00:00, 13.28it/s]\n",
      "100%|██████████| 50/50 [00:03<00:00, 12.68it/s]\n",
      "100%|██████████| 50/50 [00:03<00:00, 12.95it/s]\n",
      "100%|██████████| 50/50 [00:03<00:00, 12.94it/s]\n",
      "100%|██████████| 50/50 [00:03<00:00, 13.17it/s]\n",
      "100%|██████████| 100/100 [00:07<00:00, 13.37it/s]\n",
      "100%|██████████| 100/100 [00:07<00:00, 12.80it/s]\n",
      "100%|██████████| 100/100 [00:07<00:00, 13.35it/s]\n",
      "100%|██████████| 100/100 [00:07<00:00, 13.04it/s]\n",
      "100%|██████████| 100/100 [00:07<00:00, 13.51it/s]\n",
      "100%|██████████| 100/100 [00:07<00:00, 13.17it/s]\n",
      "100%|██████████| 100/100 [00:07<00:00, 13.66it/s]\n",
      "100%|██████████| 100/100 [00:08<00:00, 12.50it/s]\n",
      "100%|██████████| 100/100 [00:07<00:00, 13.06it/s]\n",
      "100%|██████████| 100/100 [00:08<00:00, 12.23it/s]\n",
      "100%|██████████| 200/200 [00:15<00:00, 12.94it/s]\n",
      "100%|██████████| 200/200 [00:15<00:00, 13.02it/s]\n",
      "100%|██████████| 200/200 [00:16<00:00, 11.98it/s]\n",
      "100%|██████████| 200/200 [00:15<00:00, 12.94it/s]\n",
      "100%|██████████| 200/200 [00:15<00:00, 13.33it/s]\n",
      "100%|██████████| 200/200 [00:16<00:00, 12.41it/s]\n",
      "100%|██████████| 200/200 [00:15<00:00, 12.97it/s]\n",
      "100%|██████████| 200/200 [00:15<00:00, 12.88it/s]\n",
      "100%|██████████| 200/200 [00:15<00:00, 12.98it/s]\n",
      "100%|██████████| 200/200 [00:15<00:00, 13.07it/s]\n",
      "Max Depths: 4it [15:27, 231.80s/it]\n"
     ]
    }
   ],
   "source": [
    "acc_train, acc_test, acc_0, acc_3 = cross_validation(X_train, y_train, max_depths, forest_sizes, k=10)"
   ]
  },
  {
   "cell_type": "code",
   "execution_count": 45,
   "metadata": {},
   "outputs": [
    {
     "name": "stdout",
     "output_type": "stream",
     "text": [
      "Best hyperparameters: (10, 100)\n",
      "Best average test accuracy: 0.9930053379820293\n",
      "Best average test precision (0): 0.979684588916465\n",
      "Best average test precision (3): 1.0\n"
     ]
    }
   ],
   "source": [
    "best_accuracy = 0\n",
    "best_hparams = None\n",
    "\n",
    "for i, depth in enumerate(max_depths):\n",
    "    for j, forest_size in enumerate(forest_sizes):\n",
    "        avg_train_accuracy = np.mean(acc_train[i * len(forest_sizes) + j])\n",
    "        avg_test_accuracy = np.mean(acc_test[i * len(forest_sizes) + j])\n",
    "\n",
    "        avg_train_acc_0 = np.mean(acc_0[i * len(forest_sizes) + j])\n",
    "        avg_train_acc_3 = np.mean(acc_3[i * len(forest_sizes) + j])\n",
    "        avg_test_acc_0 = np.mean(acc_0[i * len(forest_sizes) + j])\n",
    "        avg_test_acc_3 = np.mean(acc_3[i * len(forest_sizes) + j])\n",
    "\n",
    "        avg_train_top_classes_acc = (avg_train_acc_0 + avg_train_acc_3) / 2\n",
    "        avg_test_top_classes_acc = (avg_test_acc_0 + avg_test_acc_3) / 2\n",
    "        \n",
    "        # choose the best hyperparameters based on the average accuracy of the top classes (0 and 3)\n",
    "        if avg_test_top_classes_acc > best_accuracy:\n",
    "            best_accuracy = avg_test_top_classes_acc\n",
    "            best_hparams = (depth, forest_size)\n",
    "\n",
    "print(\"Best hyperparameters:\", best_hparams)\n",
    "print(\"Best average test accuracy:\", best_accuracy)\n",
    "print(\"Best average test precision (0):\", avg_test_acc_0)\n",
    "print(\"Best average test precision (3):\", avg_test_acc_3)\n"
   ]
  },
  {
   "cell_type": "code",
   "execution_count": 46,
   "metadata": {},
   "outputs": [
    {
     "name": "stderr",
     "output_type": "stream",
     "text": [
      "100%|██████████| 100/100 [00:07<00:00, 14.03it/s]\n"
     ]
    },
    {
     "name": "stdout",
     "output_type": "stream",
     "text": [
      "Validation set\n"
     ]
    },
    {
     "data": {
      "image/png": "[encoded data removed]",
      "text/plain": [
       "<Figure size 640x480 with 1 Axes>"
      ]
     },
     "metadata": {},
     "output_type": "display_data"
    },
    {
     "name": "stdout",
     "output_type": "stream",
     "text": [
      "Accuracy:  0.9806949806949807\n",
      "Precision class 0:  0.988950276243094\n",
      "Precision class 3:  1.0\n",
      "\n",
      "Test set\n"
     ]
    },
    {
     "data": {
      "image/png": "[encoded data removed]",
      "text/plain": [
       "<Figure size 640x480 with 1 Axes>"
      ]
     },
     "metadata": {},
     "output_type": "display_data"
    },
    {
     "name": "stdout",
     "output_type": "stream",
     "text": [
      "Accuracy:  0.9769230769230769\n",
      "Precision class 0:  0.9835164835164835\n",
      "Precision class 3:  1.0\n"
     ]
    }
   ],
   "source": [
    "# train model with best hyperparameters\n",
    "rf_model = RandomForest(n_trees=best_hparams[1], max_depth=best_hparams[0])\n",
    "rf_model.fit(X_train.values, y_train)\n",
    "y_pred = rf_model.predict(X_validation.values)\n",
    "y_pred_test = rf_model.predict(X_test.values)\n",
    "\n",
    "print(\"Validation set\")\n",
    "confusion_matrix(y_validation, y_pred, model_name='Best Random Forest on Validation Set')\n",
    "print(\"Accuracy: \", accuracy(y_validation, y_pred))\n",
    "print(\"Precision class 0: \", prec_class_0(y_validation, y_pred))\n",
    "print(\"Precision class 3: \", prec_class_3(y_validation, y_pred))\n",
    "# print(\"Precision: \", precision(y_validation, y_pred))\n",
    "# print(\"Recall: \", recall(y_validation, y_pred))\n",
    "# print(\"F1 Score: \", f1(y_validation, y_pred))\n",
    "# print(f\"confusion matrix: {confusion_matrix(y_validation, y_pred)}\")\n",
    "\n",
    "print(\"\\nTest set\")\n",
    "confusion_matrix(y_test, y_pred_test, model_name='Best Random Forest on Test Set')\n",
    "print(\"Accuracy: \", accuracy(y_test, y_pred_test))\n",
    "print(\"Precision class 0: \", prec_class_0(y_test, y_pred_test))\n",
    "print(\"Precision class 3: \", prec_class_3(y_test, y_pred_test))\n",
    "# print(\"Precision: \", precision(y_test, y_pred_test))\n",
    "# print(\"Recall: \", recall(y_test, y_pred_test))\n",
    "# print(\"F1 Score: \", f1(y_test, y_pred_test))\n",
    "# print(f\"confusion matrix: {confusion_matrix(y_test, y_pred_test)}\")"
   ]
  },
  {
   "cell_type": "markdown",
   "metadata": {},
   "source": [
    "Los resultados obtenidos son casi perfectos, en el dataset de validación solo 5 datos de 259 fueron clasificados incorrectamente y en el dataset de entrenamiento de 260 datos solo 6 muestras fueron mal catalogadas. Además, en el dataset de validación solo 2 muestras de la clase 0 fueron clasificadas erróneamente, mientras que las muestras de clase 3 fueron todas predichas de forma acorde. "
   ]
  }
 ],
 "metadata": {
  "kernelspec": {
   "display_name": "ml",
   "language": "python",
   "name": "python3"
  },
  "language_info": {
   "codemirror_mode": {
    "name": "ipython",
    "version": 3
   },
   "file_extension": ".py",
   "mimetype": "text/x-python",
   "name": "python",
   "nbconvert_exporter": "python",
   "pygments_lexer": "ipython3",
   "version": "3.8.18"
  }
 },
 "nbformat": 4,
 "nbformat_minor": 2
}
